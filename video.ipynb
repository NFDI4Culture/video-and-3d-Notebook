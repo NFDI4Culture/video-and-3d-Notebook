{
 "cells": [
  {
   "cell_type": "raw",
   "id": "0c38dee3",
   "metadata": {},
   "source": [
    "---\n",
    "title: \"Embedded video\"\n",
    "jupyter: python3\n",
    "---"
   ]
  },
  {
   "cell_type": "markdown",
   "id": "f61a078d",
   "metadata": {},
   "source": [
    "## Video - Developing an open source data pipeline for participation in community knowledge bases - https://av.tib.eu/media/56162\n",
    "\n",
    "The below Python code experiments with retrieving video data via iframe embedding."
   ]
  },
  {
   "cell_type": "code",
   "execution_count": 1,
   "id": "5c5e274d",
   "metadata": {},
   "outputs": [
    {
     "data": {
      "text/html": [
       "\n",
       "<iframe width=\"560\" height=\"315\" scrolling=\"no\" src=\"https://av.tib.eu/player/56162\" frameborder=\"0\" allowfullscreen></iframe>\n"
      ],
      "text/plain": [
       "<IPython.core.display.HTML object>"
      ]
     },
     "execution_count": 1,
     "metadata": {},
     "output_type": "execute_result"
    }
   ],
   "source": [
    "from IPython.display import HTML\n",
    "HTML(\"\"\"\n",
    "<iframe width=\"560\" height=\"315\" scrolling=\"no\" src=\"https://av.tib.eu/player/56162\" frameborder=\"0\" allowfullscreen></iframe>\n",
    "\"\"\")"
   ]
  }
 ],
 "metadata": {
  "kernelspec": {
   "display_name": "Python 3.10.8 64-bit",
   "language": "python",
   "name": "python3"
  },
  "language_info": {
   "codemirror_mode": {
    "name": "ipython",
    "version": 3
   },
   "file_extension": ".py",
   "mimetype": "text/x-python",
   "name": "python",
   "nbconvert_exporter": "python",
   "pygments_lexer": "ipython3",
   "version": "3.10.8"
  },
  "vscode": {
   "interpreter": {
    "hash": "aee8b7b246df8f9039afb4144a1f6fd8d2ca17a180786b69acc140d282b71a49"
   }
  }
 },
 "nbformat": 4,
 "nbformat_minor": 5
}
